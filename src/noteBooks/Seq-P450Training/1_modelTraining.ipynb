{
 "cells": [
  {
   "cell_type": "code",
   "execution_count": 1,
   "id": "aa00ea61-5879-455b-86d9-fcea4f42086c",
   "metadata": {},
   "outputs": [],
   "source": [
    "import pickle\n",
    "\n",
    "import numpy as np\n",
    "import pandas as pd\n",
    "import tomli\n",
    "import xgboost as xgb\n",
    "from sklearn.metrics import roc_auc_score"
   ]
  },
  {
   "cell_type": "code",
   "execution_count": 2,
   "id": "3cb270f7",
   "metadata": {},
   "outputs": [],
   "source": [
    "with open(\"src/config.toml\", \"rb\") as f:\n",
    "    config = tomli.load(f)"
   ]
  },
  {
   "cell_type": "markdown",
   "id": "747264a6",
   "metadata": {},
   "source": [
    "1. 数据读取(Data loading)"
   ]
  },
  {
   "cell_type": "code",
   "execution_count": null,
   "id": "40e86e87-0b6e-4915-87a2-a0b9a4249b21",
   "metadata": {},
   "outputs": [
    {
     "name": "stderr",
     "output_type": "stream",
     "text": [
      "/home/hanxd/miniconda3/envs/esp/lib/python3.8/site-packages/pandas/core/ops/array_ops.py:82: FutureWarning: elementwise comparison failed; returning scalar instead, but in the future will perform elementwise comparison\n",
      "  result = libops.scalar_compare(x.ravel(), y, op)\n",
      "/home/hanxd/miniconda3/envs/esp/lib/python3.8/site-packages/pandas/core/ops/array_ops.py:82: FutureWarning: elementwise comparison failed; returning scalar instead, but in the future will perform elementwise comparison\n",
      "  result = libops.scalar_compare(x.ravel(), y, op)\n"
     ]
    }
   ],
   "source": [
    "# esp数据读取\n",
    "# ESP data loading\n",
    "df_test = pd.read_pickle(\n",
    "    config[\"espData\"][\"encoded_path\"] + \"df_test_with_ESM1b_ts.pkl\"\n",
    ")\n",
    "df_test = df_test.loc[df_test[\"ESM1b\"] != \"\"]\n",
    "df_test.reset_index(inplace=True, drop=True)\n",
    "\n",
    "df_train = pd.read_pickle(\n",
    "    config[\"espData\"][\"encoded_path\"] + \"df_train_with_ESM1b_ts.pkl\"\n",
    ")\n",
    "df_train = df_train.loc[df_train[\"ESM1b\"] != \"\"]\n",
    "df_train.reset_index(inplace=True, drop=True)"
   ]
  },
  {
   "cell_type": "code",
   "execution_count": null,
   "id": "d12edb61-708e-468f-885f-8365bcaf618d",
   "metadata": {},
   "outputs": [],
   "source": [
    "# Seq-P450数据读取\n",
    "# Seq-P450 data loading\n",
    "p450plant0 = pd.read_pickle(config[\"SeqP450Data\"][\"encoded_path\"] + \"p450plant0.pkl\")\n",
    "p450plant1 = pd.read_pickle(config[\"SeqP450Data\"][\"encoded_path\"] + \"p450plant1.pkl\")\n",
    "p450plant2 = pd.read_pickle(config[\"SeqP450Data\"][\"encoded_path\"] + \"p450plant2.pkl\")\n",
    "p450plant3 = pd.read_pickle(config[\"SeqP450Data\"][\"encoded_path\"] + \"p450plant3.pkl\")\n",
    "p450plant4 = pd.read_pickle(config[\"SeqP450Data\"][\"encoded_path\"] + \"p450plant4.pkl\")\n",
    "\n",
    "p450plant = pd.concat(\n",
    "    [p450plant0, p450plant1, p450plant2, p450plant3, p450plant4], ignore_index=True\n",
    ")"
   ]
  },
  {
   "cell_type": "markdown",
   "id": "5eddbaa2",
   "metadata": {},
   "source": [
    "2. 特征提取(Feature extraction)"
   ]
  },
  {
   "cell_type": "code",
   "execution_count": 5,
   "id": "5a448b90-22e4-4fdb-be4a-3ba5d6a9ef9b",
   "metadata": {},
   "outputs": [],
   "source": [
    "def create_input_and_output_data(df):\n",
    "    X = ()\n",
    "    y = ()\n",
    "    for ind in df.index:\n",
    "        emb = df[\"ESM1b\"][ind]\n",
    "        ecfp = np.array(list(df[\"ECFP\"][ind])).astype(int)\n",
    "\n",
    "        X = X + (np.concatenate([ecfp, emb]),)\n",
    "        y = y + (df[\"Binding\"][ind],)\n",
    "\n",
    "    return (X, y)\n",
    "\n",
    "\n",
    "feature_names = [\"ECFP_\" + str(i) for i in range(1024)]\n",
    "feature_names = feature_names + [\"ESM1b_\" + str(i) for i in range(1280)]\n",
    "\n",
    "train_X, train_y = create_input_and_output_data(df=df_train)\n",
    "test_X, test_y = create_input_and_output_data(df=df_test)\n",
    "\n",
    "test_new_X, test_new_y = create_input_and_output_data(df=p450plant)\n",
    "train_X = np.concatenate([train_X, test_new_X])\n",
    "train_y = np.concatenate([train_y, test_new_y])"
   ]
  },
  {
   "cell_type": "markdown",
   "id": "979b8fe9",
   "metadata": {},
   "source": [
    "3. 模型训练(Model training)"
   ]
  },
  {
   "cell_type": "code",
   "execution_count": 6,
   "id": "61e4d9c4-14e7-4fc1-aa53-3db261df2323",
   "metadata": {},
   "outputs": [
    {
     "name": "stdout",
     "output_type": "stream",
     "text": [
      "[0]\ttrain-error:0.26911\ttrain-logloss:0.57980\n",
      "[10]\ttrain-error:0.11887\ttrain-logloss:0.36296\n",
      "[20]\ttrain-error:0.06895\ttrain-logloss:0.26987\n",
      "[30]\ttrain-error:0.04057\ttrain-logloss:0.20366\n",
      "[40]\ttrain-error:0.02649\ttrain-logloss:0.16278\n",
      "[50]\ttrain-error:0.01834\ttrain-logloss:0.13417\n",
      "[60]\ttrain-error:0.01345\ttrain-logloss:0.11097\n",
      "[70]\ttrain-error:0.00986\ttrain-logloss:0.09622\n",
      "[80]\ttrain-error:0.00780\ttrain-logloss:0.08389\n",
      "[90]\ttrain-error:0.00606\ttrain-logloss:0.07305\n",
      "[100]\ttrain-error:0.00470\ttrain-logloss:0.06417\n",
      "[110]\ttrain-error:0.00373\ttrain-logloss:0.05723\n",
      "[120]\ttrain-error:0.00294\ttrain-logloss:0.05078\n",
      "[130]\ttrain-error:0.00254\ttrain-logloss:0.04644\n",
      "[140]\ttrain-error:0.00233\ttrain-logloss:0.04239\n",
      "[150]\ttrain-error:0.00202\ttrain-logloss:0.03886\n",
      "[160]\ttrain-error:0.00186\ttrain-logloss:0.03596\n",
      "[170]\ttrain-error:0.00159\ttrain-logloss:0.03344\n",
      "[180]\ttrain-error:0.00153\ttrain-logloss:0.03111\n",
      "[190]\ttrain-error:0.00143\ttrain-logloss:0.02910\n",
      "[200]\ttrain-error:0.00136\ttrain-logloss:0.02735\n",
      "[210]\ttrain-error:0.00127\ttrain-logloss:0.02580\n",
      "[220]\ttrain-error:0.00125\ttrain-logloss:0.02461\n",
      "[230]\ttrain-error:0.00120\ttrain-logloss:0.02347\n",
      "[240]\ttrain-error:0.00118\ttrain-logloss:0.02234\n",
      "[250]\ttrain-error:0.00115\ttrain-logloss:0.02130\n",
      "[260]\ttrain-error:0.00112\ttrain-logloss:0.02046\n",
      "[270]\ttrain-error:0.00111\ttrain-logloss:0.01971\n",
      "[280]\ttrain-error:0.00109\ttrain-logloss:0.01900\n",
      "[290]\ttrain-error:0.00108\ttrain-logloss:0.01846\n",
      "[300]\ttrain-error:0.00107\ttrain-logloss:0.01792\n",
      "[310]\ttrain-error:0.00107\ttrain-logloss:0.01744\n",
      "[320]\ttrain-error:0.00106\ttrain-logloss:0.01695\n",
      "[330]\ttrain-error:0.00105\ttrain-logloss:0.01648\n",
      "[340]\ttrain-error:0.00103\ttrain-logloss:0.01608\n",
      "[341]\ttrain-error:0.00104\ttrain-logloss:0.01604\n",
      "Accuracy on test set: 0.8875112040633403, ROC-AUC score for test set: 0.9272292993264767\n"
     ]
    }
   ],
   "source": [
    "param = {\n",
    "    \"learning_rate\": 0.60553117247348733,\n",
    "    \"max_delta_step\": 1.7726044219753656,\n",
    "    \"max_depth\": 10,\n",
    "    \"min_child_weight\": 1.3845040588450772,\n",
    "    \"num_rounds\": 342.68325188584106,\n",
    "    \"reg_alpha\": 0.531395259755843,\n",
    "    \"reg_lambda\": 3.744980563764689,\n",
    "    \"weight\": 0.26187490421514203,\n",
    "}\n",
    "\n",
    "num_round = param[\"num_rounds\"]\n",
    "param[\"objective\"] = \"binary:logistic\"\n",
    "param[\"eval_metric\"] = [\"error\", \"logloss\"]\n",
    "\n",
    "weights1 = np.array(\n",
    "    [param[\"weight\"] if binding == 0 else 1.0 for binding in df_train[\"Binding\"]]\n",
    ")\n",
    "weights2 = np.array(\n",
    "    [param[\"weight\"] if binding == 0 else 1.0 for binding in test_new_y]\n",
    ")\n",
    "\n",
    "weights = np.concatenate([weights1, weights2])\n",
    "\n",
    "\n",
    "del param[\"num_rounds\"]\n",
    "del param[\"weight\"]\n",
    "\n",
    "dtrain = xgb.DMatrix(\n",
    "    np.array(train_X),\n",
    "    weight=weights,\n",
    "    label=np.array(train_y),\n",
    "    feature_names=feature_names,\n",
    ")\n",
    "dtest = xgb.DMatrix(\n",
    "    np.array(test_X), label=np.array(test_y), feature_names=feature_names\n",
    ")\n",
    "\n",
    "evallist = [(dtrain, \"train\")]\n",
    "\n",
    "bst = xgb.train(param, dtrain, int(num_round), evallist, verbose_eval=10)\n",
    "y_test_pred = np.round(bst.predict(dtest))\n",
    "acc_test = np.mean(y_test_pred == np.array(test_y))\n",
    "roc_auc = roc_auc_score(np.array(test_y), bst.predict(dtest))\n",
    "\n",
    "print(\"Accuracy on test set: %s, ROC-AUC score for test set: %s\" % (acc_test, roc_auc))"
   ]
  },
  {
   "cell_type": "code",
   "execution_count": 7,
   "id": "cc02501a-eb5b-4a74-86b6-0686b816409d",
   "metadata": {},
   "outputs": [],
   "source": [
    "pickle.dump(\n",
    "    bst, open(config[\"SeqP450Data\"][\"model_path\"] + \"p450normalmodel.dat\", \"wb\")\n",
    ")"
   ]
  }
 ],
 "metadata": {
  "kernelspec": {
   "display_name": "esp",
   "language": "python",
   "name": "python3"
  },
  "language_info": {
   "codemirror_mode": {
    "name": "ipython",
    "version": 3
   },
   "file_extension": ".py",
   "mimetype": "text/x-python",
   "name": "python",
   "nbconvert_exporter": "python",
   "pygments_lexer": "ipython3",
   "version": "3.8.17"
  }
 },
 "nbformat": 4,
 "nbformat_minor": 5
}
