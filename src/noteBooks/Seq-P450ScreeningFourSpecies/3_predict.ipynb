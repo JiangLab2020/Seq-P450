{
 "cells": [
  {
   "cell_type": "code",
   "execution_count": 36,
   "id": "41546d6f-d7e1-4309-9b26-20ed6db70ae8",
   "metadata": {},
   "outputs": [],
   "source": [
    "import numpy as np\n",
    "import pandas as pd\n",
    "import tomli\n",
    "import xgboost as xgb"
   ]
  },
  {
   "cell_type": "code",
   "execution_count": 37,
   "id": "b043c822",
   "metadata": {},
   "outputs": [],
   "source": [
    "with open(\"src/config.toml\", \"rb\") as f:\n",
    "    config = tomli.load(f)"
   ]
  },
  {
   "cell_type": "markdown",
   "id": "f2d33047",
   "metadata": {},
   "source": [
    "1. 数据汇总(Data aggregation)"
   ]
  },
  {
   "cell_type": "code",
   "execution_count": 38,
   "id": "5e742c26-26e2-40ee-98a1-54456bca33c2",
   "metadata": {},
   "outputs": [],
   "source": [
    "dataname = \"Arabidopsis_thaliana\"\n",
    "# dataname = \"Erigeron_breviscapus\"\n",
    "# dataname = \"Glycine_max\"\n",
    "# dataname = \"Zea_mays\"\n",
    "\n",
    "data = pd.read_pickle(config[\"screeningData\"][\"encoded_path\"] + f\"{dataname}_data.pkl\")\n",
    "delete = pd.read_pickle(\n",
    "    config[\"screeningData\"][\"encoded_path\"] + f\"{dataname}_deletedata.pkl\"\n",
    ")\n",
    "alldata = pd.concat([data, delete], ignore_index=True)"
   ]
  },
  {
   "cell_type": "markdown",
   "id": "031a9430",
   "metadata": {},
   "source": [
    "2. 模型预测(Model prediction)"
   ]
  },
  {
   "cell_type": "code",
   "execution_count": 39,
   "id": "4cd192a1-1149-4bdc-af93-39041c7f6d6e",
   "metadata": {},
   "outputs": [],
   "source": [
    "def create_input_and_output_data(df):\n",
    "    X = ()\n",
    "    y = ()\n",
    "    for ind in df.index:\n",
    "        emb = df[\"ESM1b\"][ind]\n",
    "        ecfp = np.array(list(df[\"ECFP\"][ind])).astype(int)\n",
    "\n",
    "        X = X + (np.concatenate([ecfp, emb]),)\n",
    "        y = y + (df[\"Binding\"][ind],)\n",
    "\n",
    "    return (X, y)\n",
    "\n",
    "\n",
    "feature_names = [\"ECFP_\" + str(i) for i in range(1024)]\n",
    "feature_names = feature_names + [\"ESM1b_\" + str(i) for i in range(1280)]"
   ]
  },
  {
   "cell_type": "code",
   "execution_count": 40,
   "id": "3a82d7eb-e3f2-452c-9120-9f3451c9ead2",
   "metadata": {},
   "outputs": [],
   "source": [
    "bst = pd.read_pickle(\n",
    "    config[\"screeningData\"][\"model_path\"] + f\"{dataname}_deletedatamodel.dat\",\n",
    ")"
   ]
  },
  {
   "cell_type": "code",
   "execution_count": 41,
   "id": "49fc08e8-9420-4d04-8587-ce41b5b25d27",
   "metadata": {},
   "outputs": [],
   "source": [
    "data_X, data_y = create_input_and_output_data(df=alldata)\n",
    "dwant = xgb.DMatrix(\n",
    "    np.array(data_X), label=np.array(data_y), feature_names=feature_names\n",
    ")\n",
    "y_test_pred = bst.predict(dwant)\n",
    "alldata[\"scores\"] = y_test_pred\n",
    "alldata.to_pickle(config[\"screeningData\"][\"encoded_path\"] + f\"{dataname}_scores.pkl\")"
   ]
  },
  {
   "cell_type": "code",
   "execution_count": 42,
   "id": "860ad5de",
   "metadata": {},
   "outputs": [
    {
     "name": "stdout",
     "output_type": "stream",
     "text": [
      "5435\n",
      "235\n",
      "23\n"
     ]
    }
   ],
   "source": [
    "print(len(alldata))\n",
    "print(alldata[\"enzyme\"].nunique())\n",
    "print(alldata[\"substrate\"].nunique())"
   ]
  }
 ],
 "metadata": {
  "kernelspec": {
   "display_name": "esp",
   "language": "python",
   "name": "python3"
  },
  "language_info": {
   "codemirror_mode": {
    "name": "ipython",
    "version": 3
   },
   "file_extension": ".py",
   "mimetype": "text/x-python",
   "name": "python",
   "nbconvert_exporter": "python",
   "pygments_lexer": "ipython3",
   "version": "3.8.17"
  }
 },
 "nbformat": 4,
 "nbformat_minor": 5
}
