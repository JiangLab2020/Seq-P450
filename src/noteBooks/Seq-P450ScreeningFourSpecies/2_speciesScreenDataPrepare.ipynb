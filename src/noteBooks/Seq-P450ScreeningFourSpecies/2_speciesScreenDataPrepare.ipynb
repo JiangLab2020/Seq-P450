{
 "cells": [
  {
   "cell_type": "code",
   "execution_count": 33,
   "id": "f09e246fa99bc266",
   "metadata": {
    "ExecuteTime": {
     "end_time": "2023-08-28T08:38:01.891672600Z",
     "start_time": "2023-08-28T08:37:59.723598400Z"
    },
    "jupyter": {
     "outputs_hidden": false
    }
   },
   "outputs": [],
   "source": [
    "import pandas as pd\n",
    "import tomli\n",
    "import torch\n",
    "from Bio import SeqIO\n",
    "from rdkit import Chem\n",
    "from rdkit.Chem import AllChem"
   ]
  },
  {
   "cell_type": "code",
   "execution_count": 34,
   "id": "eb294f37",
   "metadata": {},
   "outputs": [],
   "source": [
    "with open(\"src/config.toml\", \"rb\") as f:\n",
    "    config = tomli.load(f)"
   ]
  },
  {
   "cell_type": "markdown",
   "id": "26ef7eaa070c6bc9",
   "metadata": {
    "jupyter": {
     "outputs_hidden": false
    }
   },
   "source": [
    "1. 数据读取(Data loading)"
   ]
  },
  {
   "cell_type": "code",
   "execution_count": 35,
   "id": "7c12697e",
   "metadata": {},
   "outputs": [],
   "source": [
    "# queryname = \"Arabidopsis_thaliana\"\n",
    "# queryname = \"Erigeron_breviscapus\"\n",
    "# queryname = \"Glycine_max\"\n",
    "queryname = \"Zea_mays\""
   ]
  },
  {
   "cell_type": "code",
   "execution_count": null,
   "id": "bd16a8a9-5494-4f40-af51-b56fc0ef2eb4",
   "metadata": {},
   "outputs": [],
   "source": [
    "# 从编码数据中读取所有底物\n",
    "# Read all substrates from encoded data\n",
    "deletedata = pd.read_pickle(\n",
    "    config[\"screeningData\"][\"encoded_path\"] + f\"{queryname}_deletedata.pkl\"\n",
    ")\n",
    "sublist = deletedata[\"substrate\"].unique().tolist()\n",
    "\n",
    "# 读取所有可能的组合方式\n",
    "# Read all possible combinations\n",
    "enzyme_list = []\n",
    "sequence_list = []\n",
    "substrate_list = []\n",
    "\n",
    "for record in SeqIO.parse(\n",
    "    config[\"screeningData\"][\"enzyme_path\"] + f\"{queryname}.fasta\",\n",
    "    \"fasta\",\n",
    "):\n",
    "    for i in sublist:\n",
    "        substrate_list.append(i)\n",
    "        enzyme_list.append(record.id)\n",
    "        sequence_list.append(str(record.seq))\n",
    "\n",
    "for record in SeqIO.parse(\n",
    "    config[\"screeningData\"][\"enzyme_path\"] + f\"{queryname}.pep\", \"fasta\"\n",
    "):\n",
    "    for i in sublist:\n",
    "        substrate_list.append(i)\n",
    "        enzyme_list.append(record.id)\n",
    "        sequence_list.append(str(record.seq))\n",
    "\n",
    "# 放入dataframe\n",
    "# Insert into DataFrame\n",
    "df = pd.DataFrame(\n",
    "    {\"enzyme\": enzyme_list, \"sequence\": sequence_list, \"substrate\": substrate_list}\n",
    ")\n",
    "# 删除重复项\n",
    "# Remove duplicates\n",
    "df = df.drop_duplicates(keep=\"first\")\n",
    "df = df.drop_duplicates(subset=[\"enzyme\", \"substrate\"])"
   ]
  },
  {
   "cell_type": "markdown",
   "id": "c43b3870",
   "metadata": {},
   "source": [
    "2. 数据特征提取与汇总(Data feature extraction and aggregation)"
   ]
  },
  {
   "cell_type": "code",
   "execution_count": null,
   "id": "80408815ec6c6e63",
   "metadata": {
    "ExecuteTime": {
     "end_time": "2023-08-28T09:17:55.035620900Z",
     "start_time": "2023-08-28T09:17:45.737945300Z"
    },
    "jupyter": {
     "outputs_hidden": false
    }
   },
   "outputs": [
    {
     "name": "stdout",
     "output_type": "stream",
     "text": [
      "Transferred model to GPU\n",
      "Read data/screeningData/enzyme/Zea_mays.pep with 229 sequences\n",
      "Processing 1 of 32 batches (9 sequences)\n",
      "Processing 2 of 32 batches (8 sequences)\n",
      "Processing 3 of 32 batches (8 sequences)\n",
      "Processing 4 of 32 batches (8 sequences)\n",
      "Processing 5 of 32 batches (8 sequences)\n",
      "Processing 6 of 32 batches (8 sequences)\n",
      "Processing 7 of 32 batches (8 sequences)\n",
      "Processing 8 of 32 batches (8 sequences)\n",
      "Processing 9 of 32 batches (8 sequences)\n",
      "Processing 10 of 32 batches (8 sequences)\n",
      "Processing 11 of 32 batches (7 sequences)\n",
      "Processing 12 of 32 batches (7 sequences)\n",
      "Processing 13 of 32 batches (7 sequences)\n",
      "Processing 14 of 32 batches (7 sequences)\n",
      "Processing 15 of 32 batches (7 sequences)\n",
      "Processing 16 of 32 batches (7 sequences)\n",
      "Processing 17 of 32 batches (7 sequences)\n",
      "Processing 18 of 32 batches (7 sequences)\n",
      "Processing 19 of 32 batches (7 sequences)\n",
      "Processing 20 of 32 batches (7 sequences)\n",
      "Processing 21 of 32 batches (7 sequences)\n",
      "Processing 22 of 32 batches (7 sequences)\n",
      "Processing 23 of 32 batches (7 sequences)\n",
      "Processing 24 of 32 batches (7 sequences)\n",
      "Processing 25 of 32 batches (7 sequences)\n",
      "Processing 26 of 32 batches (7 sequences)\n",
      "Processing 27 of 32 batches (7 sequences)\n",
      "Processing 28 of 32 batches (7 sequences)\n",
      "Processing 29 of 32 batches (7 sequences)\n",
      "Processing 30 of 32 batches (7 sequences)\n",
      "Processing 31 of 32 batches (7 sequences)\n",
      "Processing 32 of 32 batches (1 sequences)\n"
     ]
    }
   ],
   "source": [
    "# 使用esm进行序列特征提取（仅需要执行一次即可）\n",
    "# Extract sequence features using ESM (needs to be executed only once)\n",
    "\n",
    "# ! python src/codes/extract.py esm1b_t33_650M_UR50S {config['screeningData']['enzyme_path']}{queryname}.pep {config['screeningData']['esm_path']} --repr_layers 33 --include mean"
   ]
  },
  {
   "cell_type": "code",
   "execution_count": 38,
   "id": "aa034c505b94f913",
   "metadata": {
    "jupyter": {
     "outputs_hidden": false
    }
   },
   "outputs": [],
   "source": [
    "df[\"ESM1b\"] = \"\"\n",
    "df[\"ECFP\"] = \"\"\n",
    "\n",
    "for ind in df.index:\n",
    "    esms = torch.load(\n",
    "        config[\"screeningData\"][\"esm_path\"] + str(df[\"enzyme\"][ind]) + \".pt\"\n",
    "    )\n",
    "    sdf_file_path = (\n",
    "        config[\"SeqP450Data\"][\"substrate_path\"] + df[\"substrate\"][ind] + \".sdf\"\n",
    "    )\n",
    "    mol = Chem.MolFromMolFile(sdf_file_path)\n",
    "    ecfpso = AllChem.GetMorganFingerprintAsBitVect(mol, 2, nBits=1024).ToBitString()\n",
    "    df[\"ESM1b\"][ind] = esms[\"mean_representations\"][33].tolist()\n",
    "    df[\"ECFP\"][ind] = ecfpso\n",
    "df[\"Binding\"] = 0"
   ]
  },
  {
   "cell_type": "code",
   "execution_count": null,
   "id": "6faafc4b-070f-4f96-bbc1-3b2d1eb9c12a",
   "metadata": {},
   "outputs": [],
   "source": [
    "# 数据存储\n",
    "# Data storage\n",
    "df.to_pickle(config[\"screeningData\"][\"encoded_path\"] + f\"{queryname}_data.pkl\")"
   ]
  },
  {
   "cell_type": "code",
   "execution_count": null,
   "id": "ab716b6c",
   "metadata": {},
   "outputs": [
    {
     "name": "stdout",
     "output_type": "stream",
     "text": [
      "13\n",
      "232\n",
      "3016\n",
      "3016\n"
     ]
    }
   ],
   "source": [
    "# 数据验证\n",
    "# Data validation\n",
    "print(df[\"substrate\"].nunique())\n",
    "print(df[\"enzyme\"].nunique())\n",
    "print(df[\"substrate\"].nunique() * df[\"enzyme\"].nunique())\n",
    "print(df.shape[0])"
   ]
  },
  {
   "cell_type": "code",
   "execution_count": null,
   "id": "e04bb929",
   "metadata": {},
   "outputs": [],
   "source": []
  }
 ],
 "metadata": {
  "kernelspec": {
   "display_name": "esp",
   "language": "python",
   "name": "python3"
  },
  "language_info": {
   "codemirror_mode": {
    "name": "ipython",
    "version": 3
   },
   "file_extension": ".py",
   "mimetype": "text/x-python",
   "name": "python",
   "nbconvert_exporter": "python",
   "pygments_lexer": "ipython3",
   "version": "3.8.17"
  }
 },
 "nbformat": 4,
 "nbformat_minor": 5
}
