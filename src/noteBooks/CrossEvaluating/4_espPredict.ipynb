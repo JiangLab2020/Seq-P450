{
 "cells": [
  {
   "cell_type": "code",
   "execution_count": 1,
   "id": "73c76c00-c638-4cfa-9dc1-ec59cf9aabc8",
   "metadata": {},
   "outputs": [],
   "source": [
    "import numpy as np\n",
    "import pandas as pd\n",
    "import tomli\n",
    "import xgboost as xgb\n",
    "from sklearn.metrics import matthews_corrcoef, roc_auc_score"
   ]
  },
  {
   "cell_type": "code",
   "execution_count": 2,
   "id": "be5bbd2c",
   "metadata": {},
   "outputs": [],
   "source": [
    "with open(\"src/config.toml\", \"rb\") as f:\n",
    "    config = tomli.load(f)"
   ]
  },
  {
   "cell_type": "markdown",
   "id": "d6b614c9",
   "metadata": {},
   "source": [
    "1. 数据读取与处理(Data loading and processing)"
   ]
  },
  {
   "cell_type": "code",
   "execution_count": null,
   "id": "2d9432f3-b8f8-4d8e-aab0-bdcce8edbc3b",
   "metadata": {},
   "outputs": [],
   "source": [
    "# 数据读取\n",
    "# Data loading\n",
    "p450plant0 = pd.read_pickle(config[\"SeqP450Data\"][\"encoded_path\"] + \"p450plant0.pkl\")\n",
    "p450plant1 = pd.read_pickle(config[\"SeqP450Data\"][\"encoded_path\"] + \"p450plant1.pkl\")\n",
    "p450plant2 = pd.read_pickle(config[\"SeqP450Data\"][\"encoded_path\"] + \"p450plant2.pkl\")\n",
    "p450plant3 = pd.read_pickle(config[\"SeqP450Data\"][\"encoded_path\"] + \"p450plant3.pkl\")\n",
    "p450plant4 = pd.read_pickle(config[\"SeqP450Data\"][\"encoded_path\"] + \"p450plant4.pkl\")\n",
    "\n",
    "p450plant = pd.concat(\n",
    "    [p450plant0, p450plant1, p450plant2, p450plant3, p450plant4], ignore_index=True\n",
    ")"
   ]
  },
  {
   "cell_type": "code",
   "execution_count": null,
   "id": "cc31083c-b49f-410f-9007-eaa9671cc90b",
   "metadata": {},
   "outputs": [],
   "source": [
    "# 特征读取\n",
    "# Feature loading\n",
    "def create_input_and_output_data(df):\n",
    "    X = ()\n",
    "    y = ()\n",
    "    for ind in df.index:\n",
    "        emb = df[\"ESM1b\"][ind]\n",
    "        ecfp = np.array(list(df[\"ECFP\"][ind])).astype(int)\n",
    "        X = X + (np.concatenate([ecfp, emb]),)\n",
    "        y = y + (df[\"Binding\"][ind],)\n",
    "    return (X, y)\n",
    "\n",
    "\n",
    "feature_names = [\"ECFP_\" + str(i) for i in range(1024)]\n",
    "feature_names = feature_names + [\"ESM1b_\" + str(i) for i in range(1280)]\n",
    "\n",
    "data_X, data_y = create_input_and_output_data(df=p450plant)"
   ]
  },
  {
   "cell_type": "markdown",
   "id": "9585bf1a",
   "metadata": {},
   "source": [
    "2. 模型预测(Model prediction)"
   ]
  },
  {
   "cell_type": "code",
   "execution_count": null,
   "id": "7886c316-c08b-4bc0-8968-829e10018380",
   "metadata": {},
   "outputs": [],
   "source": [
    "# 模型预测\n",
    "# Model prediction\n",
    "bst = pd.read_pickle(config[\"espData\"][\"model_path\"] + \"p450authormodel.dat\")\n",
    "dtest_new = xgb.DMatrix(\n",
    "    np.array(data_X), label=np.array(data_y), feature_names=feature_names\n",
    ")"
   ]
  },
  {
   "cell_type": "markdown",
   "id": "8e0b5e74",
   "metadata": {},
   "source": [
    "3. 模型评估(Model evaluation)"
   ]
  },
  {
   "cell_type": "code",
   "execution_count": null,
   "id": "7f2ffa3e-eacd-40e7-8c40-9121e8f4c1ae",
   "metadata": {},
   "outputs": [
    {
     "name": "stdout",
     "output_type": "stream",
     "text": [
      "Accuracy on test set: 0.5983236621534493, ROC-AUC score for test set: 0.5700608704436023, MCC: 0.07629463605771931\n",
      "Accuracy on 1 set: 0.3539651837524178, Accuracy on 0 set: 0.7205029013539652\n",
      "1551\n"
     ]
    }
   ],
   "source": [
    "# 模型评估\n",
    "# Model evaluation\n",
    "y_test_new_pred = np.round(bst.predict(dtest_new))\n",
    "acc_test_new = np.mean(y_test_new_pred == np.array(data_y))\n",
    "try:\n",
    "    roc_auc_new = roc_auc_score(np.array(data_y), bst.predict(dtest_new))\n",
    "    mcc = matthews_corrcoef(np.array(data_y), y_test_new_pred)\n",
    "except:\n",
    "    roc_auc_new = 0\n",
    "    mcc = 0\n",
    "\n",
    "print(\n",
    "    \"Accuracy on test set: %s, ROC-AUC score for test set: %s, MCC: %s\"\n",
    "    % (acc_test_new, roc_auc_new, mcc)\n",
    ")\n",
    "\n",
    "index_of_ones = np.where(np.array(data_y) == 1)[0]\n",
    "values_of_ones = bst.predict(dtest_new)[index_of_ones]\n",
    "acc_1 = np.mean(np.round(values_of_ones) == 1)\n",
    "\n",
    "index_of_zeros = np.where(np.array(data_y) == 0)[0]\n",
    "values_of_zeros = bst.predict(dtest_new)[index_of_zeros]\n",
    "acc_0 = np.mean(np.round(values_of_zeros) == 0)\n",
    "\n",
    "print(\"Accuracy on 1 set: %s, Accuracy on 0 set: %s\" % (acc_1, acc_0))\n",
    "print(len(data_y))"
   ]
  },
  {
   "cell_type": "code",
   "execution_count": null,
   "id": "04b3f375-64b2-4f23-ac63-7d516b28d605",
   "metadata": {},
   "outputs": [],
   "source": [
    "# 数据保存\n",
    "# Data saving\n",
    "np.save(\n",
    "    config[\"espData\"][\"encoded_path\"] + \"notrain_y_test_pred.npy\",\n",
    "    bst.predict(dtest_new),\n",
    ")\n",
    "np.save(config[\"espData\"][\"encoded_path\"] + \"notrain_y_test.npy\", np.array(data_y))"
   ]
  },
  {
   "cell_type": "code",
   "execution_count": null,
   "id": "e8cc9bb6-8b1e-4ff9-b3a7-d86251f49850",
   "metadata": {},
   "outputs": [],
   "source": []
  }
 ],
 "metadata": {
  "kernelspec": {
   "display_name": "esp",
   "language": "python",
   "name": "python3"
  },
  "language_info": {
   "codemirror_mode": {
    "name": "ipython",
    "version": 3
   },
   "file_extension": ".py",
   "mimetype": "text/x-python",
   "name": "python",
   "nbconvert_exporter": "python",
   "pygments_lexer": "ipython3",
   "version": "3.8.17"
  }
 },
 "nbformat": 4,
 "nbformat_minor": 5
}
