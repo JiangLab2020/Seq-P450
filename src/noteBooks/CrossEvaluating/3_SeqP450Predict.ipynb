{
 "cells": [
  {
   "cell_type": "code",
   "execution_count": 1,
   "id": "e0e1be8e-c03f-4240-8a8f-0052f17a1332",
   "metadata": {},
   "outputs": [],
   "source": [
    "import numpy as np\n",
    "import pandas as pd\n",
    "import tomli\n",
    "import xgboost as xgb"
   ]
  },
  {
   "cell_type": "code",
   "execution_count": 2,
   "id": "30a14407",
   "metadata": {},
   "outputs": [],
   "source": [
    "with open(\"src/config.toml\", \"rb\") as f:\n",
    "    config = tomli.load(f)"
   ]
  },
  {
   "cell_type": "markdown",
   "id": "71e5bb17",
   "metadata": {},
   "source": [
    "1. 数据读取(Data loading)"
   ]
  },
  {
   "cell_type": "code",
   "execution_count": 3,
   "id": "2db59c0a-989f-4123-81df-e564314ce1cd",
   "metadata": {},
   "outputs": [],
   "source": [
    "# 数据读取\n",
    "# Data loading\n",
    "slice0data = pd.read_pickle(config[\"SeqP450Data\"][\"encoded_path\"] + \"slice0data.pkl\")\n",
    "slice1data = pd.read_pickle(config[\"SeqP450Data\"][\"encoded_path\"] + \"slice1data.pkl\")\n",
    "slice2data = pd.read_pickle(config[\"SeqP450Data\"][\"encoded_path\"] + \"slice2data.pkl\")\n",
    "slice3data = pd.read_pickle(config[\"SeqP450Data\"][\"encoded_path\"] + \"slice3data.pkl\")\n",
    "slice4data = pd.read_pickle(config[\"SeqP450Data\"][\"encoded_path\"] + \"slice4data.pkl\")"
   ]
  },
  {
   "cell_type": "code",
   "execution_count": 4,
   "id": "16fd0a36-161e-45b6-9d74-30a5e9493d29",
   "metadata": {},
   "outputs": [],
   "source": [
    "# 模型读取\n",
    "# Model loading\n",
    "slice0model = pd.read_pickle(config[\"SeqP450Data\"][\"model_path\"] + \"slice0model.dat\")\n",
    "slice1model = pd.read_pickle(config[\"SeqP450Data\"][\"model_path\"] + \"slice1model.dat\")\n",
    "slice2model = pd.read_pickle(config[\"SeqP450Data\"][\"model_path\"] + \"slice2model.dat\")\n",
    "slice3model = pd.read_pickle(config[\"SeqP450Data\"][\"model_path\"] + \"slice3model.dat\")\n",
    "slice4model = pd.read_pickle(config[\"SeqP450Data\"][\"model_path\"] + \"slice4model.dat\")"
   ]
  },
  {
   "cell_type": "markdown",
   "id": "801e5649",
   "metadata": {},
   "source": [
    "2. 数据预测(Data prediction)"
   ]
  },
  {
   "cell_type": "code",
   "execution_count": 5,
   "id": "fb5e99df-726f-4b73-ad7a-37381f64c81a",
   "metadata": {},
   "outputs": [],
   "source": [
    "# 特征提取方法\n",
    "# Feature extraction method\n",
    "def create_input_and_output_data(df):\n",
    "    X = ()\n",
    "    y = ()\n",
    "    for ind in df.index:\n",
    "        emb = df[\"ESM1b\"][ind]\n",
    "        ecfp = np.array(list(df[\"ECFP\"][ind])).astype(int)\n",
    "\n",
    "        X = X + (np.concatenate([ecfp, emb]),)\n",
    "        y = y + (df[\"Binding\"][ind],)\n",
    "\n",
    "    return (X, y)\n",
    "\n",
    "\n",
    "# 进行特征提取操作\n",
    "# Perform feature extraction\n",
    "feature_names = [\"ECFP_\" + str(i) for i in range(1024)]\n",
    "feature_names = feature_names + [\"ESM1b_\" + str(i) for i in range(1280)]\n",
    "slice0data_X, slice0data_y = create_input_and_output_data(df=slice0data)\n",
    "slice1data_X, slice1data_y = create_input_and_output_data(df=slice1data)\n",
    "slice2data_X, slice2data_y = create_input_and_output_data(df=slice2data)\n",
    "slice3data_X, slice3data_y = create_input_and_output_data(df=slice3data)\n",
    "slice4data_X, slice4data_y = create_input_and_output_data(df=slice4data)"
   ]
  },
  {
   "cell_type": "code",
   "execution_count": 6,
   "id": "44723fd1-47e2-4bdb-a422-412adf3d94f3",
   "metadata": {},
   "outputs": [],
   "source": [
    "# 数据合并\n",
    "# Data merging\n",
    "slicedatas = [slice0data, slice1data, slice2data, slice3data, slice4data]\n",
    "slicedatas_x = [slice0data_X, slice1data_X, slice2data_X, slice3data_X, slice4data_X]\n",
    "slicedatas_y = [slice0data_y, slice1data_y, slice2data_y, slice3data_y, slice4data_y]\n",
    "slicemodels = [slice0model, slice1model, slice2model, slice3model, slice4model]"
   ]
  },
  {
   "cell_type": "code",
   "execution_count": 7,
   "id": "f0e76da9-945a-4f7f-aca8-15487dee1da3",
   "metadata": {},
   "outputs": [],
   "source": [
    "# 数据预测\n",
    "# Data prediction\n",
    "for i in range(len(slicedatas)):\n",
    "    bst = slicemodels[i]\n",
    "    dwant = xgb.DMatrix(\n",
    "        np.array(slicedatas_x[i]),\n",
    "        label=np.array(slicedatas_y[i]),\n",
    "        feature_names=feature_names,\n",
    "    )\n",
    "    y_test_pred = bst.predict(dwant)\n",
    "    slicedatas[i][\"scores\"] = y_test_pred"
   ]
  },
  {
   "cell_type": "markdown",
   "id": "b6d3fc8d",
   "metadata": {},
   "source": [
    "3. 数据保存(Data saving)"
   ]
  },
  {
   "cell_type": "code",
   "execution_count": 8,
   "id": "b74f813a-3ed8-4645-8797-979b1dc764b2",
   "metadata": {},
   "outputs": [],
   "source": [
    "# 预测数据整合\n",
    "# Prediction data integration\n",
    "merged_data = pd.concat(slicedatas, ignore_index=True)\n",
    "sorted_data = merged_data.sort_values(\n",
    "    by=[\"substrate\", \"scores\"], ascending=[True, False]\n",
    ")\n",
    "sorted_data[\"ranking\"] = sorted_data.groupby(\"substrate\").cumcount() + 1\n",
    "# 数据存储\n",
    "# Data storage\n",
    "sorted_data.to_pickle(config[\"SeqP450Data\"][\"encoded_path\"] + \"5foldsdata.pkl\")"
   ]
  },
  {
   "cell_type": "code",
   "execution_count": null,
   "id": "cbbdfe97",
   "metadata": {},
   "outputs": [],
   "source": []
  }
 ],
 "metadata": {
  "kernelspec": {
   "display_name": "esp",
   "language": "python",
   "name": "python3"
  },
  "language_info": {
   "codemirror_mode": {
    "name": "ipython",
    "version": 3
   },
   "file_extension": ".py",
   "mimetype": "text/x-python",
   "name": "python",
   "nbconvert_exporter": "python",
   "pygments_lexer": "ipython3",
   "version": "3.8.17"
  }
 },
 "nbformat": 4,
 "nbformat_minor": 5
}
